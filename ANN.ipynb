{
 "cells": [
  {
   "cell_type": "markdown",
   "id": "57e7e83e-cc96-4f54-b15e-fac2a91791d0",
   "metadata": {},
   "source": [
    "# ARTIFICIAL NEURAL NETWORK"
   ]
  },
  {
   "cell_type": "code",
   "execution_count": 1,
   "id": "83806a33-2b73-4dae-afdd-95ba51497fe9",
   "metadata": {},
   "outputs": [],
   "source": [
    "import numpy as np"
   ]
  },
  {
   "cell_type": "markdown",
   "id": "f26f2f61-29b8-4a73-80c6-33b6a2e9bffe",
   "metadata": {},
   "source": [
    "## INITIALIZING THE NETWORK"
   ]
  },
  {
   "cell_type": "code",
   "execution_count": 2,
   "id": "b190b8a2-8706-43dc-b2a5-8cfce9b33dec",
   "metadata": {},
   "outputs": [],
   "source": [
    "def initialize_network(num_inputs, num_hidden_layers, num_nodes_hidden, num_nodes_output):\n",
    "    \n",
    "    num_nodes_previous = num_inputs # number of nodes in the previous layer\n",
    "\n",
    "    network = {}\n",
    "    \n",
    "    # loop through each layer and randomly initialize the weights and biases associated with each layer\n",
    "    for layer in range(num_hidden_layers + 1):\n",
    "        \n",
    "        if layer == num_hidden_layers:\n",
    "            layer_name = 'output' # name last layer in the network output\n",
    "            num_nodes = num_nodes_output\n",
    "        else:\n",
    "            layer_name = 'layer_{}'.format(layer + 1) # otherwise give the layer a number\n",
    "            num_nodes = num_nodes_hidden[layer] \n",
    "        \n",
    "        # initialize weights and bias for each node\n",
    "        network[layer_name] = {}\n",
    "        for node in range(num_nodes):\n",
    "            node_name = 'node_{}'.format(node+1)\n",
    "            network[layer_name][node_name] = {\n",
    "                'weights': np.around(np.random.uniform(size=num_nodes_previous), decimals=2),\n",
    "                'bias': np.around(np.random.uniform(size=1), decimals=2),\n",
    "            }\n",
    "    \n",
    "        num_nodes_previous = num_nodes\n",
    "\n",
    "    return network # return the network"
   ]
  },
  {
   "cell_type": "markdown",
   "id": "cfd3391f-3a61-45fe-a7ef-53595b65568b",
   "metadata": {},
   "source": [
    "## COMPUTING WEIGHTS"
   ]
  },
  {
   "cell_type": "code",
   "execution_count": 3,
   "id": "2df14775-7594-4d1e-8487-c6d73382ab20",
   "metadata": {},
   "outputs": [],
   "source": [
    "def compute_weighted_sum(inputs, weights, bias):\n",
    "    return np.sum(inputs * weights) + bias"
   ]
  },
  {
   "cell_type": "markdown",
   "id": "0fbc58fb-3384-4e35-b549-20ecf8b66024",
   "metadata": {},
   "source": [
    "### SAMPLE NETWORK"
   ]
  },
  {
   "cell_type": "code",
   "execution_count": 4,
   "id": "9c07e593-c25d-4ca0-ae8e-793ce592a59f",
   "metadata": {},
   "outputs": [],
   "source": [
    "small_network = initialize_network(5,3,[3,2,3],1)"
   ]
  },
  {
   "cell_type": "markdown",
   "id": "fa9a7440-7456-4a88-b857-b61e983f85a7",
   "metadata": {},
   "source": [
    "### GIVING INPUTS"
   ]
  },
  {
   "cell_type": "code",
   "execution_count": 5,
   "id": "ae7ea5d0-1ab1-4fe1-8a80-05a9c8b85e1b",
   "metadata": {},
   "outputs": [
    {
     "name": "stdout",
     "output_type": "stream",
     "text": [
      "The inputs to the network are [0.15 0.74 0.26 0.53 0.01]\n"
     ]
    }
   ],
   "source": [
    "from random import seed\n",
    "import numpy as np\n",
    "\n",
    "np.random.seed(12)\n",
    "inputs = np.around(np.random.uniform(size=5), decimals=2)\n",
    "\n",
    "print('The inputs to the network are {}'.format(inputs))"
   ]
  },
  {
   "cell_type": "markdown",
   "id": "d942176f-86cd-4c96-98d9-54ce12fc4bcf",
   "metadata": {},
   "source": [
    "### CALCULATING ACTIVATION FUNCTION"
   ]
  },
  {
   "cell_type": "code",
   "execution_count": 7,
   "id": "3cbe8306-bc03-46cf-9955-b1207fedec50",
   "metadata": {},
   "outputs": [],
   "source": [
    "def node_activation(weighted_sum):\n",
    "    return 1.0 / (1.0 + np.exp(-1 * weighted_sum))"
   ]
  },
  {
   "cell_type": "code",
   "execution_count": 8,
   "id": "1da55a72-5d25-40b7-b287-9dfc343a7dcd",
   "metadata": {},
   "outputs": [
    {
     "name": "stdout",
     "output_type": "stream",
     "text": [
      "The output of the first node in the hidden layer is 0.876\n"
     ]
    }
   ],
   "source": [
    "node_output  = node_activation(compute_weighted_sum(inputs, node_weights, node_bias))\n",
    "print('The output of the first node in the hidden layer is {}'.format(np.around(node_output[0], decimals=4)))\n"
   ]
  },
  {
   "cell_type": "markdown",
   "id": "8c9940b0-501c-4531-89e1-995bb2d2f7e3",
   "metadata": {},
   "source": [
    "## FORWARD PROPOGATION"
   ]
  },
  {
   "cell_type": "code",
   "execution_count": 9,
   "id": "57113059-6e32-46be-a368-8884bf13ff1b",
   "metadata": {},
   "outputs": [],
   "source": [
    "def forward_propagate(network, inputs):\n",
    "    \n",
    "    layer_inputs = list(inputs) # start with the input layer as the input to the first hidden layer\n",
    "    \n",
    "    for layer in network:\n",
    "        \n",
    "        layer_data = network[layer]\n",
    "        \n",
    "        layer_outputs = [] \n",
    "        for layer_node in layer_data:\n",
    "        \n",
    "            node_data = layer_data[layer_node]\n",
    "        \n",
    "            # compute the weighted sum and the output of each node at the same time \n",
    "            node_output = node_activation(compute_weighted_sum(layer_inputs, node_data['weights'], node_data['bias']))\n",
    "            layer_outputs.append(np.around(node_output[0], decimals=4))\n",
    "            \n",
    "        if layer != 'output':\n",
    "            print('The outputs of the nodes in hidden layer number {} is {}'.format(layer.split('_')[1], layer_outputs))\n",
    "    \n",
    "        layer_inputs = layer_outputs # set the output of this layer to be the input to next layer\n",
    "\n",
    "    network_predictions = layer_outputs\n",
    "    return network_predictions"
   ]
  },
  {
   "cell_type": "markdown",
   "id": "df2c08b1-7d0b-4765-a4bd-be778f91bc93",
   "metadata": {},
   "source": [
    "## PREDICTION"
   ]
  },
  {
   "cell_type": "code",
   "execution_count": 10,
   "id": "d92d9cf0-8f55-4ec3-804f-d71473759a7a",
   "metadata": {},
   "outputs": [
    {
     "name": "stdout",
     "output_type": "stream",
     "text": [
      "The outputs of the nodes in hidden layer number 1 is [0.876, 0.7955, 0.806]\n",
      "The outputs of the nodes in hidden layer number 2 is [0.9028, 0.8638]\n",
      "The outputs of the nodes in hidden layer number 3 is [0.8879, 0.7656, 0.7907]\n",
      "The predicted value by the network for the given input is 0.84\n"
     ]
    }
   ],
   "source": [
    "predictions = forward_propagate(small_network, inputs)\n",
    "print('The predicted value by the network for the given input is {}'.format(np.around(predictions[0], decimals=4)))\n"
   ]
  },
  {
   "cell_type": "markdown",
   "id": "4a09c959-a76b-428d-b1c5-caf402f2f7a3",
   "metadata": {},
   "source": [
    "## NEW SAMPLE NETWORK"
   ]
  },
  {
   "cell_type": "code",
   "execution_count": 11,
   "id": "a0bca64c-3e54-4347-919f-a9125365dc03",
   "metadata": {},
   "outputs": [],
   "source": [
    "new_network = initialize_network(5,3,[4,4,4],1)"
   ]
  },
  {
   "cell_type": "code",
   "execution_count": 12,
   "id": "94ec57c3-2cec-4995-95a3-97f8a7437376",
   "metadata": {},
   "outputs": [
    {
     "name": "stdout",
     "output_type": "stream",
     "text": [
      "The inputs to the network are [0.21 0.94 0.07 0.6  0.03]\n"
     ]
    }
   ],
   "source": [
    "from random import seed\n",
    "import numpy as np\n",
    "\n",
    "inputs = np.around(np.random.uniform(size=5), decimals=2)\n",
    "\n",
    "print('The inputs to the network are {}'.format(inputs))"
   ]
  },
  {
   "cell_type": "code",
   "execution_count": 13,
   "id": "846a833f-1b2e-4d8f-8b15-9df4c1276cb4",
   "metadata": {},
   "outputs": [
    {
     "name": "stdout",
     "output_type": "stream",
     "text": [
      "The output of the first node in the hidden layer is 0.884\n"
     ]
    }
   ],
   "source": [
    "node_output  = node_activation(compute_weighted_sum(inputs, node_weights, node_bias))\n",
    "print('The output of the first node in the hidden layer is {}'.format(np.around(node_output[0], decimals=4)))"
   ]
  },
  {
   "cell_type": "code",
   "execution_count": 14,
   "id": "ee73ebb6-f210-4b53-aad5-c8bc61ac0a18",
   "metadata": {},
   "outputs": [
    {
     "name": "stdout",
     "output_type": "stream",
     "text": [
      "The outputs of the nodes in hidden layer number 1 is [0.8701, 0.8371, 0.8076, 0.7231]\n",
      "The outputs of the nodes in hidden layer number 2 is [0.9374, 0.951, 0.9324, 0.8613]\n",
      "The outputs of the nodes in hidden layer number 3 is [0.7983, 0.8044, 0.8468, 0.9442]\n",
      "The predicted value by the network for the given input is 0.9362\n"
     ]
    }
   ],
   "source": [
    "predictions = forward_propagate(new_network, inputs)\n",
    "print('The predicted value by the network for the given input is {}'.format(np.around(predictions[0], decimals=4)))\n"
   ]
  }
 ],
 "metadata": {
  "kernelspec": {
   "display_name": "Python 3 (ipykernel)",
   "language": "python",
   "name": "python3"
  },
  "language_info": {
   "codemirror_mode": {
    "name": "ipython",
    "version": 3
   },
   "file_extension": ".py",
   "mimetype": "text/x-python",
   "name": "python",
   "nbconvert_exporter": "python",
   "pygments_lexer": "ipython3",
   "version": "3.12.4"
  }
 },
 "nbformat": 4,
 "nbformat_minor": 5
}
